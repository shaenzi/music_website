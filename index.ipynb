{
  "cells": [
    {
      "cell_type": "raw",
      "metadata": {},
      "source": [
        "---\n",
        "title: \"Music that makes my life better - maybe yours too?\"\n",
        "subtitle: \"Adventures in music and looping\"\n",
        "listing:\n",
        "  contents: posts\n",
        "  sort: \"date desc\"\n",
        "  type: default\n",
        "  categories: true\n",
        "  sort-ui: false\n",
        "  filter-ui: false\n",
        "page-layout: full\n",
        "title-block-banner: banner-viola.jpg\n",
        "include-in-header:\n",
        "  - text: |\n",
        "      <style>\n",
        "      .quarto-title-block .quarto-title-banner {\n",
        "        background-position-y: center;\n",
        "        height: 200px;\n",
        "      }\n",
        "      .title {\n",
        "        color: bs-gray-dark;\n",
        "      }\n",
        "      </style>\n",
        "---"
      ],
      "id": "c21d2867"
    },
    {
      "cell_type": "markdown",
      "metadata": {},
      "source": [
        "```{css, echo=FALSE}\n",
        "\n",
        "```\n",
        "\n",
        "Posts about music that I listen to, musicians that inspire me, and maybe one day music that I make. Plus geeky adventures into looping."
      ],
      "id": "458fac92"
    }
  ],
  "metadata": {
    "kernelspec": {
      "name": "python3",
      "language": "python",
      "display_name": "Python 3 (ipykernel)"
    }
  },
  "nbformat": 4,
  "nbformat_minor": 5
}